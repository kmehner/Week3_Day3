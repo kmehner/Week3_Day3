{
 "cells": [
  {
   "cell_type": "markdown",
   "metadata": {},
   "source": [
    "# Python Requests"
   ]
  },
  {
   "cell_type": "markdown",
   "metadata": {},
   "source": [
    "## Tasks Today:\n",
    "\n",
    "   \n",
    "1) <b>Requests package</b> <br>\n",
    " &nbsp;&nbsp;&nbsp;&nbsp; a) pip install <br>\n",
    " &nbsp;&nbsp;&nbsp;&nbsp; b) requests.get <br>\n",
    " &nbsp;&nbsp;&nbsp;&nbsp; c) Response object <br>\n",
    " &nbsp;&nbsp;&nbsp;&nbsp; d) .content and .text <br>\n",
    " &nbsp;&nbsp;&nbsp;&nbsp; e) JSON <br>  \n",
    "2) <b>Python Wrapper</b> <br>\n",
    " &nbsp;&nbsp;&nbsp;&nbsp; a) API key and base url<br>\n",
    " &nbsp;&nbsp;&nbsp;&nbsp; b) Creating a class for our requests<br>\n",
    " &nbsp;&nbsp;&nbsp;&nbsp; c) Private method for getting the response data <br>\n",
    " &nbsp;&nbsp;&nbsp;&nbsp; d) Public method for displaying the data <br>\n",
    " &nbsp;&nbsp;&nbsp;&nbsp; e) In-Class Exercise #1 - Add a method for getting the high and lows for the next 3 days <br>\n",
    "3) <b>Exercises</b> <br>\n",
    " &nbsp;&nbsp;&nbsp;&nbsp; a) Exercise #1 - Pokemon Wrapper  <br>"
   ]
  },
  {
   "cell_type": "markdown",
   "metadata": {},
   "source": [
    "#### Warm Up\n",
    "Write a function that takes in a name (first or last) and returns the position and company name of that person. If the user is not found, return -1"
   ]
  },
  {
   "cell_type": "code",
   "execution_count": 1,
   "metadata": {
    "scrolled": true
   },
   "outputs": [],
   "source": [
    "data = [\n",
    "    {\n",
    "        'first_name': 'Adam',\n",
    "        'last_name': 'Simpson',\n",
    "        'city': 'West Maureenland',\n",
    "        'email': 'adam.simpson@paul-williams.com',\n",
    "        'occupation': {\n",
    "            'company': 'Odom, Harper and Allen',\n",
    "            'position': 'Records manager'\n",
    "        }\n",
    "    },\n",
    "    {\n",
    "        'first_name': 'Robert',\n",
    "        'last_name': 'Miller',\n",
    "        'city': 'South Jaredburgh',\n",
    "        'email': 'robert.miller@allen.org',\n",
    "        'occupation': {\n",
    "            'company': 'Roberts-Jackson',\n",
    "            'position': 'Media planner'\n",
    "        }\n",
    "    },\n",
    "    {\n",
    "        'first_name': 'Edwin',\n",
    "        'last_name': 'Johnson',\n",
    "        'city': 'Lake Kimberly',\n",
    "        'email': 'edwin.johnson@sanders.biz',\n",
    "        'occupation': {\n",
    "            'company': 'Hart, Jones and Malone',\n",
    "            'position': 'Therapist, speech and language'\n",
    "        }\n",
    "    },\n",
    "    {\n",
    "        'first_name': 'Gail',\n",
    "        'last_name': 'Castro',\n",
    "        'city': 'Brianchester',\n",
    "        'email': 'gail.castro@suarez-sullivan.org',\n",
    "        'occupation': {\n",
    "            'company': 'Duncan-Gallagher',\n",
    "            'position': 'Designer, multimedia'\n",
    "        }\n",
    "    },\n",
    "    {\n",
    "        'first_name': 'Andre',\n",
    "        'last_name': 'Burns',\n",
    "        'city': 'New Samuelside',\n",
    "        'email': 'andre.burns@love.com',\n",
    "        'occupation': {\n",
    "            'company': 'Sanders-Ryan',\n",
    "            'position': 'Applications developer'\n",
    "        }\n",
    "    },\n",
    "    {\n",
    "        'first_name': 'Nicole',\n",
    "        'last_name': 'Maynard',\n",
    "        'city': 'Teresaville',\n",
    "        'email': 'nicole.maynard@chavez.com',\n",
    "        'occupation': {\n",
    "            'company': 'Hoffman, Reynolds and Wilson',\n",
    "            'position': 'Community education officer'\n",
    "        }\n",
    "    },\n",
    "    {\n",
    "        'first_name': 'Megan',\n",
    "        'last_name': 'Mcdonald',\n",
    "        'city': 'Walkerfurt',\n",
    "        'email': 'megan.mcdonald@guzman.info',\n",
    "        'occupation': {\n",
    "            'company': 'King Ltd',\n",
    "            'position': 'Doctor, general practice'\n",
    "        }\n",
    "    },\n",
    "    {\n",
    "        'first_name': 'Stephen',\n",
    "        'last_name': 'Young',\n",
    "        'city': 'South Jeffrey',\n",
    "        'email': 'stephen.young@smith.biz',\n",
    "        'occupation': {\n",
    "            'company': 'Hernandez LLC',\n",
    "            'position': 'Environmental manager'\n",
    "        }\n",
    "    },\n",
    "    {\n",
    "        'first_name': 'Daniel',\n",
    "        'last_name': 'Deleon',\n",
    "        'city': 'Yatesburgh',\n",
    "        'email': 'daniel.deleon@mcmahon.org',\n",
    "        'occupation': {\n",
    "            'company': 'Nelson-Wilson',\n",
    "            'position': 'Sports development officer'\n",
    "        }\n",
    "    },\n",
    "    {\n",
    "        'first_name': 'Patricia',\n",
    "        'last_name': 'Pacheco',\n",
    "        'city': 'South Donnamouth',\n",
    "        'email': 'patricia.pacheco@lee-wilson.com',\n",
    "        'occupation': {\n",
    "            'company': 'Giles, Williams and Jones',\n",
    "            'position': 'Theatre manager'\n",
    "        }\n",
    "    }\n",
    "]\n"
   ]
  },
  {
   "cell_type": "code",
   "execution_count": 2,
   "metadata": {},
   "outputs": [
    {
     "data": {
      "text/plain": [
       "'Records manager at Odom, Harper and Allen'"
      ]
     },
     "execution_count": 2,
     "metadata": {},
     "output_type": "execute_result"
    }
   ],
   "source": [
    "def get_person_info(name):\n",
    "    \n",
    "    for person in data:\n",
    "        if person ['first_name'] == name or person ['last_name'] == name: \n",
    "            return f\"{person['occupation']['position']} at {person['occupation']['company']}\"\n",
    "    else:\n",
    "        return -1\n",
    "    \n",
    "get_person_info('Adam')"
   ]
  },
  {
   "cell_type": "code",
   "execution_count": 3,
   "metadata": {},
   "outputs": [],
   "source": [
    "def get_person_info(name):\n",
    "    name = name.title()\n",
    "    for index, value in enumerate(data):\n",
    "        for key, words in value.items():\n",
    "            if name in words:\n",
    "                return f\"{data[index]['occupation']['position']} at {data['occupation']['company']}\""
   ]
  },
  {
   "cell_type": "code",
   "execution_count": 4,
   "metadata": {},
   "outputs": [],
   "source": [
    "# Example 1\n",
    "# get_person_info('Adam')\n",
    "# Output: 'Records manager at Odom, Harper, and Allen'\n",
    "\n",
    "# Example 2\n",
    "# get_person_info('Burns')\n",
    "# Output: 'Applications developer at Sanders-Ryan'\n",
    "\n",
    "# Example 3\n",
    "# get_person_info('Alice')\n",
    "# Output: -1"
   ]
  },
  {
   "cell_type": "markdown",
   "metadata": {},
   "source": [
    "### Requests Package\n",
    "<a href='https://docs.python-requests.org/en/latest/'>Docs</a>"
   ]
  },
  {
   "cell_type": "markdown",
   "metadata": {},
   "source": [
    "#### Install and import package"
   ]
  },
  {
   "cell_type": "code",
   "execution_count": 5,
   "metadata": {},
   "outputs": [
    {
     "name": "stdout",
     "output_type": "stream",
     "text": [
      "Requirement already satisfied: requests in /Library/Frameworks/Python.framework/Versions/3.9/lib/python3.9/site-packages (2.27.1)\r\n",
      "Requirement already satisfied: certifi>=2017.4.17 in /Library/Frameworks/Python.framework/Versions/3.9/lib/python3.9/site-packages (from requests) (2021.10.8)\r\n",
      "Requirement already satisfied: idna<4,>=2.5 in /Library/Frameworks/Python.framework/Versions/3.9/lib/python3.9/site-packages (from requests) (3.3)\r\n",
      "Requirement already satisfied: charset-normalizer~=2.0.0 in /Library/Frameworks/Python.framework/Versions/3.9/lib/python3.9/site-packages (from requests) (2.0.12)\r\n",
      "Requirement already satisfied: urllib3<1.27,>=1.21.1 in /Library/Frameworks/Python.framework/Versions/3.9/lib/python3.9/site-packages (from requests) (1.26.8)\r\n"
     ]
    }
   ],
   "source": [
    "# !pip install requests"
   ]
  },
  {
   "cell_type": "code",
   "execution_count": 6,
   "metadata": {},
   "outputs": [
    {
     "name": "stdout",
     "output_type": "stream",
     "text": [
      "<module 'requests' from '/Users/katelynmehner/opt/anaconda3/lib/python3.9/site-packages/requests/__init__.py'>\n"
     ]
    }
   ],
   "source": [
    "import requests\n",
    "print(requests)"
   ]
  },
  {
   "cell_type": "markdown",
   "metadata": {},
   "source": [
    "#### requests get method"
   ]
  },
  {
   "cell_type": "code",
   "execution_count": 7,
   "metadata": {},
   "outputs": [
    {
     "data": {
      "text/plain": [
       "<Response [200]>"
      ]
     },
     "execution_count": 7,
     "metadata": {},
     "output_type": "execute_result"
    }
   ],
   "source": [
    "res = requests.get('https://codingtemple.com/')\n",
    "\n",
    "res"
   ]
  },
  {
   "cell_type": "code",
   "execution_count": 8,
   "metadata": {},
   "outputs": [
    {
     "name": "stdout",
     "output_type": "stream",
     "text": [
      "<Response [200]>\n",
      "True\n"
     ]
    }
   ],
   "source": [
    "print(res)\n",
    "print(res.ok)"
   ]
  },
  {
   "cell_type": "markdown",
   "metadata": {},
   "source": [
    "#### Response object"
   ]
  },
  {
   "cell_type": "code",
   "execution_count": 9,
   "metadata": {},
   "outputs": [
    {
     "name": "stdout",
     "output_type": "stream",
     "text": [
      "<class 'requests.models.Response'>\n"
     ]
    }
   ],
   "source": [
    "print(type(res))"
   ]
  },
  {
   "cell_type": "code",
   "execution_count": 39,
   "metadata": {},
   "outputs": [],
   "source": [
    "# help(res)"
   ]
  },
  {
   "cell_type": "markdown",
   "metadata": {},
   "source": [
    "#### .content"
   ]
  },
  {
   "cell_type": "code",
   "execution_count": 40,
   "metadata": {},
   "outputs": [],
   "source": [
    "# print(res.content)"
   ]
  },
  {
   "cell_type": "markdown",
   "metadata": {},
   "source": [
    "#### .text"
   ]
  },
  {
   "cell_type": "code",
   "execution_count": 41,
   "metadata": {
    "scrolled": true
   },
   "outputs": [],
   "source": [
    "# print(res.text)"
   ]
  },
  {
   "cell_type": "code",
   "execution_count": 13,
   "metadata": {},
   "outputs": [
    {
     "name": "stdout",
     "output_type": "stream",
     "text": [
      "True\n"
     ]
    }
   ],
   "source": [
    "print(res.ok)"
   ]
  },
  {
   "cell_type": "markdown",
   "metadata": {},
   "source": [
    "#### JSON Response"
   ]
  },
  {
   "cell_type": "code",
   "execution_count": 14,
   "metadata": {},
   "outputs": [
    {
     "data": {
      "text/plain": [
       "<Response [200]>"
      ]
     },
     "execution_count": 14,
     "metadata": {},
     "output_type": "execute_result"
    }
   ],
   "source": [
    "poke_res1 = requests.get('https://pokeapi.co/api/v2/pokemon/pikachu')\n",
    "poke_res1"
   ]
  },
  {
   "cell_type": "code",
   "execution_count": 43,
   "metadata": {
    "scrolled": true
   },
   "outputs": [],
   "source": [
    "# poke_res1.content"
   ]
  },
  {
   "cell_type": "code",
   "execution_count": 44,
   "metadata": {},
   "outputs": [],
   "source": [
    "# poke_res1.text"
   ]
  },
  {
   "cell_type": "code",
   "execution_count": 45,
   "metadata": {},
   "outputs": [],
   "source": [
    "# poke_res1.json()"
   ]
  },
  {
   "cell_type": "code",
   "execution_count": 18,
   "metadata": {},
   "outputs": [
    {
     "name": "stdout",
     "output_type": "stream",
     "text": [
      "<class 'bytes'>\n",
      "<class 'str'>\n",
      "<class 'dict'>\n"
     ]
    }
   ],
   "source": [
    "print(type(poke_res1.content))\n",
    "print(type(poke_res1.text))\n",
    "print(type(poke_res1.json()))"
   ]
  },
  {
   "cell_type": "code",
   "execution_count": 46,
   "metadata": {},
   "outputs": [],
   "source": [
    "poke_data1 = poke_res1.json()\n",
    "# poke_data1"
   ]
  },
  {
   "cell_type": "code",
   "execution_count": 20,
   "metadata": {},
   "outputs": [
    {
     "name": "stdout",
     "output_type": "stream",
     "text": [
      "pikachu\n"
     ]
    }
   ],
   "source": [
    "pokemon_name1 = poke_data1['name']\n",
    "print(pokemon_name1)\n"
   ]
  },
  {
   "cell_type": "code",
   "execution_count": 21,
   "metadata": {
    "scrolled": true
   },
   "outputs": [
    {
     "data": {
      "text/plain": [
       "dict_keys(['abilities', 'base_experience', 'forms', 'game_indices', 'height', 'held_items', 'id', 'is_default', 'location_area_encounters', 'moves', 'name', 'order', 'past_types', 'species', 'sprites', 'stats', 'types', 'weight'])"
      ]
     },
     "execution_count": 21,
     "metadata": {},
     "output_type": "execute_result"
    }
   ],
   "source": [
    "poke_data1.keys()"
   ]
  },
  {
   "cell_type": "code",
   "execution_count": 47,
   "metadata": {},
   "outputs": [],
   "source": [
    "# for move in poke_data1['moves']:\n",
    "#     print(move)\n",
    "#     print('====')"
   ]
  },
  {
   "cell_type": "markdown",
   "metadata": {},
   "source": [
    "### Python Wrappers"
   ]
  },
  {
   "cell_type": "code",
   "execution_count": 23,
   "metadata": {},
   "outputs": [
    {
     "data": {
      "text/plain": [
       "'https://api.weatherapi.com/v1/current.json?key=f72035084b9043abb7d52225212212&q=Chicago'"
      ]
     },
     "execution_count": 23,
     "metadata": {},
     "output_type": "execute_result"
    }
   ],
   "source": [
    "base_url = 'https://api.weatherapi.com/v1'\n",
    "api_method = '/current.json'\n",
    "api_key = 'f72035084b9043abb7d52225212212'\n",
    "q = 'Chicago'\n",
    "\n",
    "\n",
    "request_url = f\"{base_url}{api_method}?key={api_key}&q={q}\"\n",
    "request_url\n"
   ]
  },
  {
   "cell_type": "code",
   "execution_count": 24,
   "metadata": {},
   "outputs": [
    {
     "data": {
      "text/plain": [
       "<Response [200]>"
      ]
     },
     "execution_count": 24,
     "metadata": {},
     "output_type": "execute_result"
    }
   ],
   "source": [
    "weather_res = requests.get(request_url)\n",
    "weather_res"
   ]
  },
  {
   "cell_type": "code",
   "execution_count": 25,
   "metadata": {},
   "outputs": [],
   "source": [
    "weather_data = weather_res.json()"
   ]
  },
  {
   "cell_type": "code",
   "execution_count": 26,
   "metadata": {},
   "outputs": [],
   "source": [
    "# First version\n",
    "\n",
    "class WeatherAPI:\n",
    "    \n",
    "    def __init__ (self, api_key):\n",
    "        self.api_key = api_key\n",
    "        self.base_url = 'https://api.weatherapi.com/v1'\n",
    "        \n",
    "    def get_current_weather(self, city):\n",
    "        api_method = '/current.json'\n",
    "        request_url = f\"{self.base_url}{api_method}?key={self.api_key}&q={city}\"\n",
    "        weather_res = requests.get(request_url)\n",
    "        return weather_res.json()\n",
    "    \n",
    "client = WeatherAPI('f72035084b9043abb7d52225212212')\n",
    "        "
   ]
  },
  {
   "cell_type": "code",
   "execution_count": 27,
   "metadata": {},
   "outputs": [
    {
     "data": {
      "text/plain": [
       "{'location': {'name': 'Chicago',\n",
       "  'region': 'Illinois',\n",
       "  'country': 'United States of America',\n",
       "  'lat': 41.85,\n",
       "  'lon': -87.65,\n",
       "  'tz_id': 'America/Chicago',\n",
       "  'localtime_epoch': 1646868673,\n",
       "  'localtime': '2022-03-09 17:31'},\n",
       " 'current': {'last_updated_epoch': 1646867700,\n",
       "  'last_updated': '2022-03-09 17:15',\n",
       "  'temp_c': 5.0,\n",
       "  'temp_f': 41.0,\n",
       "  'is_day': 1,\n",
       "  'condition': {'text': 'Partly cloudy',\n",
       "   'icon': '//cdn.weatherapi.com/weather/64x64/day/116.png',\n",
       "   'code': 1003},\n",
       "  'wind_mph': 12.5,\n",
       "  'wind_kph': 20.2,\n",
       "  'wind_degree': 300,\n",
       "  'wind_dir': 'WNW',\n",
       "  'pressure_mb': 1017.0,\n",
       "  'pressure_in': 30.03,\n",
       "  'precip_mm': 0.0,\n",
       "  'precip_in': 0.0,\n",
       "  'humidity': 41,\n",
       "  'cloud': 25,\n",
       "  'feelslike_c': 1.5,\n",
       "  'feelslike_f': 34.6,\n",
       "  'vis_km': 16.0,\n",
       "  'vis_miles': 9.0,\n",
       "  'uv': 3.0,\n",
       "  'gust_mph': 12.1,\n",
       "  'gust_kph': 19.4}}"
      ]
     },
     "execution_count": 27,
     "metadata": {},
     "output_type": "execute_result"
    }
   ],
   "source": [
    "client.get_current_weather('Chicago')"
   ]
  },
  {
   "cell_type": "code",
   "execution_count": 28,
   "metadata": {},
   "outputs": [],
   "source": [
    "class WeatherAPI:\n",
    "    \n",
    "    def __init__(self, api_key):\n",
    "        self.api_key = api_key\n",
    "        self.base_url = 'http://api.weatherapi.com/v1'\n",
    "        \n",
    "    def _get(self, q, api_method, days = None):\n",
    "        request_url = f\"{self.base_url}{api_method}?key={self.api_key}&q={q}\"\n",
    "        if days:\n",
    "            request_url += f'&days={days}'\n",
    "        weather_res = requests.get(request_url)\n",
    "        if weather_res.ok:\n",
    "            return weather_res.json()\n",
    "        else:\n",
    "            print('There was an error.')\n",
    "        \n",
    "    def get_current_weather(self, city):\n",
    "        weather_data = self._get(city, '/current.json')\n",
    "        city = weather_data['location']['name']\n",
    "        state = weather_data['location']['region']\n",
    "        current_temp = weather_data['current']['temp_f']\n",
    "        current_condition = weather_data['current']['condition']['text']\n",
    "        current_feels_like = weather_data['current']['feelslike_f']\n",
    "        print(f\"It is currently {current_temp} and {current_condition} in {city}, {state}. It feels like it is {current_feels_like}\")\n",
    "    \n",
    "    def get_forecasted_weather(self, city, days=3):\n",
    "        weather_data = self._get(city, '/forecast.json', days)\n",
    "        city = weather_data['location']['name']\n",
    "        state = weather_data['location']['region']\n",
    "        \n",
    "        print(f\"You are looking at the forcast for {city}, {state}\")\n",
    "        \n",
    "        for day in weather_data['forecast']['forecastday']:\n",
    "            high_temp = day['day'][\"maxtemp_f\"]\n",
    "            low_temp = day['day'][\"mintemp_f\"]\n",
    "            condition = day['day'][\"condition\"]['text']\n",
    "            date = day['date']\n",
    "            print(f\"\"\"\n",
    "                Date: {date}\n",
    "                The high is {high_temp}\n",
    "                The low is {low_temp}\n",
    "                The condition is {condition}\"\"\")\n",
    "\n",
    "        \n",
    "client = WeatherAPI('f72035084b9043abb7d52225212212')\n",
    "        "
   ]
  },
  {
   "cell_type": "code",
   "execution_count": 29,
   "metadata": {},
   "outputs": [
    {
     "name": "stdout",
     "output_type": "stream",
     "text": [
      "It is currently 41.0 and Partly cloudy in Chicago, Illinois. It feels like it is 34.6\n"
     ]
    }
   ],
   "source": [
    "client.get_current_weather('Chicago')"
   ]
  },
  {
   "cell_type": "code",
   "execution_count": 30,
   "metadata": {},
   "outputs": [
    {
     "name": "stdout",
     "output_type": "stream",
     "text": [
      "You are looking at the forcast for Chicago, Illinois\n",
      "\n",
      "                Date: 2022-03-09\n",
      "                The high is 45.9\n",
      "                The low is 32.4\n",
      "                The condition is Partly cloudy\n",
      "\n",
      "                Date: 2022-03-10\n",
      "                The high is 28.8\n",
      "                The low is 26.6\n",
      "                The condition is Overcast\n",
      "\n",
      "                Date: 2022-03-11\n",
      "                The high is 34.9\n",
      "                The low is 23.7\n",
      "                The condition is Overcast\n"
     ]
    }
   ],
   "source": [
    "client.get_forecasted_weather('Chicago', 3)"
   ]
  },
  {
   "cell_type": "code",
   "execution_count": 31,
   "metadata": {},
   "outputs": [],
   "source": [
    "def main():\n",
    "    api_key = input('What is your api key? ')\n",
    "    client = WeatherAPI(api_key)\n",
    "    while True:\n",
    "        city = input('For which city would you like to check the weather? ')\n",
    "        if city.lower() == 'quit':\n",
    "            break\n",
    "        client.get_current_weather(city)\n",
    "        "
   ]
  },
  {
   "cell_type": "markdown",
   "metadata": {},
   "source": [
    "#### In-class Exercise"
   ]
  },
  {
   "cell_type": "markdown",
   "metadata": {},
   "source": [
    "Add a method for getting the forecast weather for a city. It should default to 3 days in the future. It should display the high, low and condition with the date."
   ]
  },
  {
   "cell_type": "code",
   "execution_count": 32,
   "metadata": {},
   "outputs": [],
   "source": [
    "# See above"
   ]
  },
  {
   "cell_type": "markdown",
   "metadata": {},
   "source": [
    "# Exercise"
   ]
  },
  {
   "cell_type": "markdown",
   "metadata": {},
   "source": [
    "#### Pokemon API Wrapper"
   ]
  },
  {
   "cell_type": "markdown",
   "metadata": {},
   "source": [
    "Create a python wrapper for the Pokemon API. It should take in a pokemon name and display the pokemon with its height and weight"
   ]
  },
  {
   "cell_type": "code",
   "execution_count": 33,
   "metadata": {},
   "outputs": [],
   "source": [
    "import requests\n",
    "class PokemonAPI:\n",
    "    \n",
    "    def __init__(self):\n",
    "        self.base_url = \"http://pokeapi.co/api/v2\"\n",
    "    \n",
    "    \n",
    "    def _get(self, pokename):\n",
    "        self.pokename = pokename.lower()\n",
    "        request_url = f\"{self.base_url}/pokemon/{self.pokename}\"\n",
    "        poke_res = requests.get(request_url)\n",
    "        if poke_res.ok:\n",
    "            return poke_res.json()\n",
    "        else:\n",
    "            print('There was an error.')\n",
    "       \n",
    "\n",
    "    def get_info(self, pokemon):\n",
    "        poke_data = self._get(pokemon)\n",
    "        height = poke_data['height']\n",
    "        weight = poke_data['weight']\n",
    "        \n",
    "        print(f\"\"\"\n",
    "        Pokemon: {pokemon.title()}\n",
    "        Height: {height} ft\n",
    "        Weight: {weight} lbs\n",
    "        \"\"\")\n",
    "        \n",
    "    def get_abilities(self, pokemon):\n",
    "        poke_data = self._get(pokemon)\n",
    "        abilities = poke_data['abilities']\n",
    "        \n",
    "        print(f\"\"\"\n",
    "        Pokemon: {pokemon.title()}\n",
    "        Ability:\"\"\")\n",
    "        \n",
    "        for able in abilities:\n",
    "            ability_name = able['ability']['name']\n",
    "            print(f\"\"\"   \n",
    "            * {ability_name}\"\"\")\n",
    "            \n",
    "    def get_stats(self, pokemon):\n",
    "        poke_data = self._get(pokemon)\n",
    "        attack_defense = poke_data['stats']\n",
    "        \n",
    "        print(f\"{pokemon.title()}\")\n",
    "        \n",
    "        for move in attack_defense:\n",
    "            fight_move = move['stat']['name']\n",
    "            effort = move['effort']\n",
    "            base = move['base_stat']\n",
    "            if fight_move == 'hp':\n",
    "                print(f\"\"\"   \n",
    "                * Stat: {fight_move:} (hit-point)\n",
    "                  Base-stat: {base}\n",
    "                  Effort-level: {effort}\n",
    "                \"\"\")\n",
    "            else:\n",
    "                print(f\"\"\"   \n",
    "                * Stat: {fight_move}\n",
    "                  Base-stat: {base}\n",
    "                  Effort-level: {effort}\n",
    "                \"\"\")\n",
    "                \n",
    "    def get_moves(self, pokemon, formatted = \"no\"):\n",
    "        self.formatted = formatted\n",
    "        poke_data = self._get(pokemon)\n",
    "        poke_moves = poke_data['moves']\n",
    "        total_moves = 0\n",
    "        move_count = 0 \n",
    "        for move in poke_moves:\n",
    "            move_count += 1\n",
    "        \n",
    "        print(f\"Pokemon: {pokemon.title()}\")\n",
    "        print(f\"Total moves: {move_count}\")\n",
    "        \n",
    "        for move in poke_moves:\n",
    "            move_type = move['move']['name']\n",
    "            total_moves += 1\n",
    "            if formatted == 'yes':\n",
    "                 print(f\"\"\"\n",
    "                 {total_moves}:   {move_type}\n",
    "                 \"\"\")\n",
    "                \n",
    "            else:\n",
    "                if move in poke_moves[0:-1]:\n",
    "                    print(f\"{move_type},\", end=\" \")\n",
    "                else:\n",
    "                    print(f\"{move_type}.\", end=\" \")"
   ]
  },
  {
   "cell_type": "code",
   "execution_count": 34,
   "metadata": {},
   "outputs": [
    {
     "name": "stdout",
     "output_type": "stream",
     "text": [
      "\n",
      "        Pokemon: Ditto\n",
      "        Height: 3 ft\n",
      "        Weight: 40 lbs\n",
      "        \n"
     ]
    }
   ],
   "source": [
    "poke1 = PokemonAPI()\n",
    "\n",
    "poke1.get_info('Ditto')"
   ]
  },
  {
   "cell_type": "code",
   "execution_count": 35,
   "metadata": {},
   "outputs": [
    {
     "name": "stdout",
     "output_type": "stream",
     "text": [
      "\n",
      "        Pokemon: Pikachu\n",
      "        Ability:\n",
      "   \n",
      "            * static\n",
      "   \n",
      "            * lightning-rod\n"
     ]
    }
   ],
   "source": [
    "poke2 = PokemonAPI()\n",
    "poke2.get_abilities('pikachu')"
   ]
  },
  {
   "cell_type": "code",
   "execution_count": 36,
   "metadata": {
    "scrolled": true
   },
   "outputs": [
    {
     "name": "stdout",
     "output_type": "stream",
     "text": [
      "Pikachu\n",
      "   \n",
      "                * Stat: hp (hit-point)\n",
      "                  Base-stat: 35\n",
      "                  Effort-level: 0\n",
      "                \n",
      "   \n",
      "                * Stat: attack\n",
      "                  Base-stat: 55\n",
      "                  Effort-level: 0\n",
      "                \n",
      "   \n",
      "                * Stat: defense\n",
      "                  Base-stat: 40\n",
      "                  Effort-level: 0\n",
      "                \n",
      "   \n",
      "                * Stat: special-attack\n",
      "                  Base-stat: 50\n",
      "                  Effort-level: 0\n",
      "                \n",
      "   \n",
      "                * Stat: special-defense\n",
      "                  Base-stat: 50\n",
      "                  Effort-level: 0\n",
      "                \n",
      "   \n",
      "                * Stat: speed\n",
      "                  Base-stat: 90\n",
      "                  Effort-level: 2\n",
      "                \n"
     ]
    }
   ],
   "source": [
    "poke2.get_stats('pikachu')"
   ]
  },
  {
   "cell_type": "code",
   "execution_count": 37,
   "metadata": {},
   "outputs": [
    {
     "name": "stdout",
     "output_type": "stream",
     "text": [
      "Pokemon: Pikachu\n",
      "Total moves: 96\n",
      "\n",
      "                 1:   mega-punch\n",
      "                 \n",
      "\n",
      "                 2:   pay-day\n",
      "                 \n",
      "\n",
      "                 3:   thunder-punch\n",
      "                 \n",
      "\n",
      "                 4:   slam\n",
      "                 \n",
      "\n",
      "                 5:   double-kick\n",
      "                 \n",
      "\n",
      "                 6:   mega-kick\n",
      "                 \n",
      "\n",
      "                 7:   headbutt\n",
      "                 \n",
      "\n",
      "                 8:   body-slam\n",
      "                 \n",
      "\n",
      "                 9:   take-down\n",
      "                 \n",
      "\n",
      "                 10:   double-edge\n",
      "                 \n",
      "\n",
      "                 11:   tail-whip\n",
      "                 \n",
      "\n",
      "                 12:   growl\n",
      "                 \n",
      "\n",
      "                 13:   surf\n",
      "                 \n",
      "\n",
      "                 14:   submission\n",
      "                 \n",
      "\n",
      "                 15:   counter\n",
      "                 \n",
      "\n",
      "                 16:   seismic-toss\n",
      "                 \n",
      "\n",
      "                 17:   strength\n",
      "                 \n",
      "\n",
      "                 18:   thunder-shock\n",
      "                 \n",
      "\n",
      "                 19:   thunderbolt\n",
      "                 \n",
      "\n",
      "                 20:   thunder-wave\n",
      "                 \n",
      "\n",
      "                 21:   thunder\n",
      "                 \n",
      "\n",
      "                 22:   dig\n",
      "                 \n",
      "\n",
      "                 23:   toxic\n",
      "                 \n",
      "\n",
      "                 24:   agility\n",
      "                 \n",
      "\n",
      "                 25:   quick-attack\n",
      "                 \n",
      "\n",
      "                 26:   rage\n",
      "                 \n",
      "\n",
      "                 27:   mimic\n",
      "                 \n",
      "\n",
      "                 28:   double-team\n",
      "                 \n",
      "\n",
      "                 29:   defense-curl\n",
      "                 \n",
      "\n",
      "                 30:   light-screen\n",
      "                 \n",
      "\n",
      "                 31:   reflect\n",
      "                 \n",
      "\n",
      "                 32:   bide\n",
      "                 \n",
      "\n",
      "                 33:   swift\n",
      "                 \n",
      "\n",
      "                 34:   skull-bash\n",
      "                 \n",
      "\n",
      "                 35:   flash\n",
      "                 \n",
      "\n",
      "                 36:   rest\n",
      "                 \n",
      "\n",
      "                 37:   substitute\n",
      "                 \n",
      "\n",
      "                 38:   thief\n",
      "                 \n",
      "\n",
      "                 39:   snore\n",
      "                 \n",
      "\n",
      "                 40:   curse\n",
      "                 \n",
      "\n",
      "                 41:   reversal\n",
      "                 \n",
      "\n",
      "                 42:   protect\n",
      "                 \n",
      "\n",
      "                 43:   sweet-kiss\n",
      "                 \n",
      "\n",
      "                 44:   mud-slap\n",
      "                 \n",
      "\n",
      "                 45:   zap-cannon\n",
      "                 \n",
      "\n",
      "                 46:   detect\n",
      "                 \n",
      "\n",
      "                 47:   endure\n",
      "                 \n",
      "\n",
      "                 48:   charm\n",
      "                 \n",
      "\n",
      "                 49:   rollout\n",
      "                 \n",
      "\n",
      "                 50:   swagger\n",
      "                 \n",
      "\n",
      "                 51:   spark\n",
      "                 \n",
      "\n",
      "                 52:   attract\n",
      "                 \n",
      "\n",
      "                 53:   sleep-talk\n",
      "                 \n",
      "\n",
      "                 54:   return\n",
      "                 \n",
      "\n",
      "                 55:   frustration\n",
      "                 \n",
      "\n",
      "                 56:   dynamic-punch\n",
      "                 \n",
      "\n",
      "                 57:   encore\n",
      "                 \n",
      "\n",
      "                 58:   iron-tail\n",
      "                 \n",
      "\n",
      "                 59:   hidden-power\n",
      "                 \n",
      "\n",
      "                 60:   rain-dance\n",
      "                 \n",
      "\n",
      "                 61:   rock-smash\n",
      "                 \n",
      "\n",
      "                 62:   uproar\n",
      "                 \n",
      "\n",
      "                 63:   facade\n",
      "                 \n",
      "\n",
      "                 64:   focus-punch\n",
      "                 \n",
      "\n",
      "                 65:   helping-hand\n",
      "                 \n",
      "\n",
      "                 66:   brick-break\n",
      "                 \n",
      "\n",
      "                 67:   knock-off\n",
      "                 \n",
      "\n",
      "                 68:   secret-power\n",
      "                 \n",
      "\n",
      "                 69:   signal-beam\n",
      "                 \n",
      "\n",
      "                 70:   covet\n",
      "                 \n",
      "\n",
      "                 71:   volt-tackle\n",
      "                 \n",
      "\n",
      "                 72:   calm-mind\n",
      "                 \n",
      "\n",
      "                 73:   shock-wave\n",
      "                 \n",
      "\n",
      "                 74:   natural-gift\n",
      "                 \n",
      "\n",
      "                 75:   feint\n",
      "                 \n",
      "\n",
      "                 76:   fling\n",
      "                 \n",
      "\n",
      "                 77:   magnet-rise\n",
      "                 \n",
      "\n",
      "                 78:   nasty-plot\n",
      "                 \n",
      "\n",
      "                 79:   discharge\n",
      "                 \n",
      "\n",
      "                 80:   captivate\n",
      "                 \n",
      "\n",
      "                 81:   grass-knot\n",
      "                 \n",
      "\n",
      "                 82:   charge-beam\n",
      "                 \n",
      "\n",
      "                 83:   electro-ball\n",
      "                 \n",
      "\n",
      "                 84:   round\n",
      "                 \n",
      "\n",
      "                 85:   echoed-voice\n",
      "                 \n",
      "\n",
      "                 86:   volt-switch\n",
      "                 \n",
      "\n",
      "                 87:   electroweb\n",
      "                 \n",
      "\n",
      "                 88:   wild-charge\n",
      "                 \n",
      "\n",
      "                 89:   draining-kiss\n",
      "                 \n",
      "\n",
      "                 90:   play-rough\n",
      "                 \n",
      "\n",
      "                 91:   play-nice\n",
      "                 \n",
      "\n",
      "                 92:   confide\n",
      "                 \n",
      "\n",
      "                 93:   electric-terrain\n",
      "                 \n",
      "\n",
      "                 94:   nuzzle\n",
      "                 \n",
      "\n",
      "                 95:   laser-focus\n",
      "                 \n",
      "\n",
      "                 96:   rising-voltage\n",
      "                 \n"
     ]
    }
   ],
   "source": [
    "poke2.get_moves('pikachu', 'yes')"
   ]
  },
  {
   "cell_type": "code",
   "execution_count": 38,
   "metadata": {},
   "outputs": [
    {
     "name": "stdout",
     "output_type": "stream",
     "text": [
      "Pokemon: Pikachu\n",
      "Total moves: 96\n",
      "mega-punch, pay-day, thunder-punch, slam, double-kick, mega-kick, headbutt, body-slam, take-down, double-edge, tail-whip, growl, surf, submission, counter, seismic-toss, strength, thunder-shock, thunderbolt, thunder-wave, thunder, dig, toxic, agility, quick-attack, rage, mimic, double-team, defense-curl, light-screen, reflect, bide, swift, skull-bash, flash, rest, substitute, thief, snore, curse, reversal, protect, sweet-kiss, mud-slap, zap-cannon, detect, endure, charm, rollout, swagger, spark, attract, sleep-talk, return, frustration, dynamic-punch, encore, iron-tail, hidden-power, rain-dance, rock-smash, uproar, facade, focus-punch, helping-hand, brick-break, knock-off, secret-power, signal-beam, covet, volt-tackle, calm-mind, shock-wave, natural-gift, feint, fling, magnet-rise, nasty-plot, discharge, captivate, grass-knot, charge-beam, electro-ball, round, echoed-voice, volt-switch, electroweb, wild-charge, draining-kiss, play-rough, play-nice, confide, electric-terrain, nuzzle, laser-focus, rising-voltage. "
     ]
    }
   ],
   "source": [
    "poke2.get_moves('pikachu')"
   ]
  }
 ],
 "metadata": {
  "kernelspec": {
   "display_name": "Python 3 (ipykernel)",
   "language": "python",
   "name": "python3"
  },
  "language_info": {
   "codemirror_mode": {
    "name": "ipython",
    "version": 3
   },
   "file_extension": ".py",
   "mimetype": "text/x-python",
   "name": "python",
   "nbconvert_exporter": "python",
   "pygments_lexer": "ipython3",
   "version": "3.9.7"
  }
 },
 "nbformat": 4,
 "nbformat_minor": 4
}
